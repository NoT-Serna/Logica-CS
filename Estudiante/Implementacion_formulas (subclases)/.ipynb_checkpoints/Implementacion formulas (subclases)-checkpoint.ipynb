{
 "cells": [
  {
   "cell_type": "markdown",
   "metadata": {},
   "source": [
    "<table>\n",
    "    <tr>\n",
    "        <td><img src=\"./img/Macc.png\" width=\"auto\"/></td>\n",
    "        <td>\n",
    "            <table><tr>\n",
    "            <h1 style=\"color:blue;text-align:center\">Lógica para Ciencias de la Computación</h1></td>\n",
    "            </tr></table>   \n",
    "        <td>&nbsp;</td>\n",
    "        <td>\n",
    "            <table><tr>\n",
    "            <tp><p style=\"font-size:150%;text-align:center\">Taller</p></tp>\n",
    "            <tp><p style=\"font-size:150%;text-align:center\">Implementación de fórmulas en Python mediante subclases</p></tp>\n",
    "            </tr></table>\n",
    "        </td>\n",
    "    </tr>\n",
    "</table>\n",
    "\n",
    "---"
   ]
  },
  {
   "cell_type": "markdown",
   "metadata": {},
   "source": [
    "# Objetivo <a class=\"anchor\" id=\"inicio\"></a>\n",
    "\n",
    "En este taller nos familiarizaremos con la implementación de fórmulas en Python mediante subclases para diferenciar las distintas capas de una fórmula. También veremos cómo implementar funciones recursivas sobre fórmulas como un método hereditario.\n"
   ]
  },
  {
   "cell_type": "markdown",
   "metadata": {},
   "source": [
    "# Secciones\n",
    "\n",
    "1. [Implementación de las fórmulas.](#imp)\n",
    "2. [Definición de funciones recursivas.](#funs)\n",
    "3. [Ejercicios.](#ejers)"
   ]
  },
  {
   "cell_type": "markdown",
   "metadata": {},
   "source": [
    "# Implementación de las fórmulas <a class=\"anchor\" id=\"imp\"></a>\n",
    "\n",
    "([Volver al inicio](#inicio))\n",
    "\n",
    "Nuestra implementación está basada en una clase llamada `Formula`, la cual tendrá asociada tres subclases. Una para el tipo base de las letras proposicionales, y otras dos para las negaciones y los conectivos binarios. Estas subclases heredarán los métodos que vamos a implementar sobre la clase `Formula`, de tal manera que podamos aplicar la recursión sobre todas las subclases.\n",
    "\n",
    "La implementación es la siguiente:"
   ]
  },
  {
   "cell_type": "code",
   "execution_count": 1,
   "metadata": {},
   "outputs": [],
   "source": [
    "class Formula :\n",
    "    def __init__(self) :\n",
    "        pass"
   ]
  },
  {
   "cell_type": "markdown",
   "metadata": {},
   "source": [
    "Inicializamos la clase `Formula`, la cual por ahora sólo crea un objeto, sin ningún atributo o método. Lo importante de esta clase es que servirá como contenedor para sus subclases.\n",
    "\n",
    "Definiremos ahora una subclase llamada `Letra`, la cual representará las letras proposicionales. Su único atributo es `letra`, que será una cadena con la letra proposicional representada ($p$, $q$, etc.):"
   ]
  },
  {
   "cell_type": "code",
   "execution_count": 2,
   "metadata": {},
   "outputs": [],
   "source": [
    "class Letra(Formula) :\n",
    "    def __init__ (self, letra:str) :\n",
    "        self.letra = letra"
   ]
  },
  {
   "cell_type": "markdown",
   "metadata": {},
   "source": [
    "Observe cómo nos aseguramos que el atributo `letra` sea de tipo string. Aunque Python usa tipos dinámicos, incluso aunque le demos indicaciones sobre los tipos correspondientes a los argumentos de una función, hacer estas indicaciones constituye una buena práctica en programación. Note que al correr un código en el cual al atributo `letra`de un objeto `Letra` se le asigna un valor de tipo incorrecto, no obtendrá un error. No obstante, usualmente los entornos de programación generarán warnings para indicarnos que hemos usado un tipo que no coincide con el tipo estipulado, cuando tal situación tenga lugar.\n",
    "\n",
    "Ahora viene la subclase `Negacion`, la cual representará la negación de una fórmula. Su único atributo es una fórmula, que llamaremos `subf`. Observe que nos aseguramos que este atributo sea de tipo `Formula`:"
   ]
  },
  {
   "cell_type": "code",
   "execution_count": 3,
   "metadata": {},
   "outputs": [],
   "source": [
    "class Negacion(Formula) :    \n",
    "    def __init__(self, subf:Formula) : \n",
    "        self.subf = subf"
   ]
  },
  {
   "cell_type": "markdown",
   "metadata": {},
   "source": [
    "Finalmente, implementamos los conectivos binarios. Para ello necesitamos considerar tres atributos:\n",
    "\n",
    "* `conectivo`: el cual representará un conectivo binario (\"Y\" para la $\\wedge$, \"O\" para la $\\vee$, \">\" para $\\to$, y \"=\" para $\\leftrightarrow$).\n",
    "* `left`: que es la fórmula que irá a la izquierda del conectivo.\n",
    "* `right`: que es la fórmula que irá a la derecha del conectivo."
   ]
  },
  {
   "cell_type": "code",
   "execution_count": 4,
   "metadata": {},
   "outputs": [],
   "source": [
    "class Binario(Formula) :\n",
    "    def __init__(self, conectivo:str, left:Formula, right:Formula) :\n",
    "        assert(conectivo in ['Y','O','>','='])\n",
    "        self.conectivo = conectivo\n",
    "        self.left = left\n",
    "        self.right = right"
   ]
  },
  {
   "cell_type": "markdown",
   "metadata": {},
   "source": [
    "Observe que nos aseguramos que el conectivo usado para construir el objeto sea una de las cadenas 'Y','O','>', o '=' mediante la instrucción `assert`. También hemos requerido, en el método constructor, que `left` y `right` sean de tipo `Formula`."
   ]
  },
  {
   "cell_type": "markdown",
   "metadata": {},
   "source": [
    "---"
   ]
  },
  {
   "cell_type": "markdown",
   "metadata": {},
   "source": [
    "# Definición de funciones recursivas <a class=\"anchor\" id=\"funs\"></a>\n",
    "\n",
    "([Volver al inicio](#inicio))\n",
    "\n",
    "### Visualización de la notación \"inorder\" de una fórmula\n",
    "\n",
    "Una vez realizada la implementación de manera correcta, no tenemos ningún output. Si tuvimos algún output, esto fue porque pusimos un número inadecuado de parámetros en alguna de las subclases. Lo que vamos a hacer ahora es implementar un método que nos permita visualizar una fórmula como estamos acostumbrados. Para ello usaremos el método `__str__`. Más adelante veremos otras maneras de visualizar fórmulas.\n",
    "\n",
    "Lo que haremos es definir la función `__str__` y luego la asignaremos como un método de la clase `Formula`. Observe que las clases `Letra`, `Negacion`, `Binario` son subclases de `Formula`, así que todas heredarán este método.\n",
    "\n",
    "La definición de `__str__` es la siguiente:"
   ]
  },
  {
   "cell_type": "code",
   "execution_count": 5,
   "metadata": {},
   "outputs": [],
   "source": [
    "def __str__(self) :\n",
    "    if type(self) == Letra:\n",
    "        return self.letra\n",
    "    elif type(self) == Negacion:\n",
    "        return '-' + str(self.subf)\n",
    "    elif type(self) == Binario:\n",
    "        return \"(\" + str(self.left) + self.conectivo + str(self.right) + \")\"\n",
    "    \n",
    "setattr(Formula, \"__str__\", __str__)\n"
   ]
  },
  {
   "cell_type": "markdown",
   "metadata": {},
   "source": [
    "Esta función considera los tres tipos posibles que conforman a toda fórmula de la lógica proposicional. Para cada caso, retorna un valor. \n",
    "\n",
    "Primero, `__str__` considera si su argumento es de tipo `Letra`. En otras palabras, determina si la fórmula que está considerando es una letra proposicional. En este caso, devuelve el atributo `letra`, el cual guarda como información una cadena que representa una letra proposicional.\n",
    "\n",
    "Segundo, considera si su argumento es de tipo `Negacion`. En este caso, devuelve la cadena \"-\", la cual representa a $\\neg$, concatenada con la función `str()` aplicada sobre la fórmula que está almacenada en el atributo `subf`. Esta es nuestra primera aplicación de la recursión. En efecto, la función `__str__` aplicada sobre una fórmula $\\neg A$ llama a la función `str()` sobre la subfórmula $A$.\n",
    "\n",
    "Finalmente, `__str__` considera si su argumento es de tipo `Binario`. En este caso, devuelve la cadena formada por un paréntesis izquierdo, la función `str()` aplicada sobre la fórmula de la izquierda guardada en el atributo `left`, el conectivo binario guardado en el atributo `conectivo`, la función `str()` aplicada sobre la fórmula de la derecha guardada en el atributo `right` y, por último, un paréntesis derecho. Esta también es una aplicación de la recursión, toda vez que la función `__str__` aplicada sobre $A\\odot B$ (donde $\\odot$ es cualquiera de los conectivos binarios) llama de nuevo la función `str()` sobre las subfórmulas $A$ y $B$.\n",
    "\n",
    "Observe que la última línea se encarga de asignar `__str__` como un método del mismo nombre a la clase `Formula`.\n",
    "\n",
    "Al imrpimir una fórmula podemos visualizarla:"
   ]
  },
  {
   "cell_type": "code",
   "execution_count": 6,
   "metadata": {},
   "outputs": [],
   "source": [
    "p = Letra('p')"
   ]
  },
  {
   "cell_type": "code",
   "execution_count": 7,
   "metadata": {},
   "outputs": [
    {
     "data": {
      "text/plain": [
       "<__main__.Letra at 0x10e63e190>"
      ]
     },
     "execution_count": 7,
     "metadata": {},
     "output_type": "execute_result"
    }
   ],
   "source": [
    "p"
   ]
  },
  {
   "cell_type": "code",
   "execution_count": 8,
   "metadata": {},
   "outputs": [
    {
     "name": "stdout",
     "output_type": "stream",
     "text": [
      "p\n"
     ]
    }
   ],
   "source": [
    "print(p)"
   ]
  },
  {
   "cell_type": "markdown",
   "metadata": {},
   "source": [
    "Observe la diferencia entre la instrucción `p` y `print(p)`. En el primer caso la salida de la celda indica que `p` es un objeto de tipo `Letra`. En el segundo, la salida imprime la fórmula usando la definición de `__str__`."
   ]
  },
  {
   "cell_type": "markdown",
   "metadata": {},
   "source": [
    "### Función para contar el número de conectivos\n",
    "\n",
    "Definimos ahora la función que cuenta el número de ocurrencias de conectivos (binarios o negación) de una fórmula:"
   ]
  },
  {
   "cell_type": "code",
   "execution_count": 9,
   "metadata": {},
   "outputs": [],
   "source": [
    "def num_conec(self) :\n",
    "    if type(self) == Letra:\n",
    "        return 0\n",
    "    elif type(self) == Negacion:\n",
    "        return 1 + self.subf.num_conec()\n",
    "    elif type(self) == Binario:\n",
    "        return 1 + self.left.num_conec() + self.right.num_conec()\n",
    "\n",
    "setattr(Formula, \"num_conec\", num_conec)"
   ]
  },
  {
   "cell_type": "code",
   "execution_count": 10,
   "metadata": {},
   "outputs": [
    {
     "data": {
      "text/plain": [
       "0"
      ]
     },
     "execution_count": 10,
     "metadata": {},
     "output_type": "execute_result"
    }
   ],
   "source": [
    "p.num_conec()"
   ]
  },
  {
   "cell_type": "markdown",
   "metadata": {},
   "source": [
    "# Ejercicios <a class=\"anchor\" id=\"ejers\"></a>\n",
    "\n",
    "([Volver al inicio](#inicio))"
   ]
  },
  {
   "cell_type": "markdown",
   "metadata": {},
   "source": [
    "**Ejercicio 1:**\n",
    "\n",
    "* Cree una fórmula llamada `p` que corresponda al átomo $p$.\n",
    "* Cree una fórmula llamada `q` que corresponda al átomo $q$.\n",
    "* Cree una fórmula llamada `A1` que corresponda a $\\neg p$.\n",
    "* Cree una fórmula llamada `A2` que corresponda a $\\neg p\\to q$.\n",
    "* Cree una fórmula llamada `A3` que corresponda a $\\neg (p\\wedge\\neg q)$.\n",
    "* Visualice todas las anteriores fórmulas."
   ]
  },
  {
   "cell_type": "markdown",
   "metadata": {},
   "source": [
    "**Ejercicio 2:**\n",
    "\n",
    "Use el método `num_conec` para contar el número de conectivos (binarios o negación) de las cuatro fórmulas creadas en el ejercicio 1."
   ]
  },
  {
   "cell_type": "markdown",
   "metadata": {},
   "source": [
    "**Ejercicio 3:**\n",
    "\n",
    "Cree la función `num_paren` que cuenta el número de paréntesis de una fórmula y córrala sobre las fórmulas del ejercicio 1."
   ]
  }
 ],
 "metadata": {
  "kernelspec": {
   "display_name": "Python 3",
   "language": "python",
   "name": "python3"
  },
  "language_info": {
   "codemirror_mode": {
    "name": "ipython",
    "version": 3
   },
   "file_extension": ".py",
   "mimetype": "text/x-python",
   "name": "python",
   "nbconvert_exporter": "python",
   "pygments_lexer": "ipython3",
   "version": "3.7.1"
  }
 },
 "nbformat": 4,
 "nbformat_minor": 4
}
