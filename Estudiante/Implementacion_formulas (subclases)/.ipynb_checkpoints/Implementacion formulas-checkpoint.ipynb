{
 "cells": [
  {
   "cell_type": "markdown",
   "metadata": {},
   "source": [
    "<table>\n",
    "    <tr>\n",
    "        <td><img src=\"./img/Macc.png\" width=\"auto\"/></td>\n",
    "        <td>\n",
    "            <table><tr>\n",
    "            <h1 style=\"color:blue;\">Lógica para Ciencias de la Computación</h1></td>\n",
    "            </tr></table>   \n",
    "        <td>&nbsp;</td>\n",
    "        <td>\n",
    "            <table><tr>\n",
    "            <tp><p style=\"font-size:150%;text-align:center\">Taller</p></tp>\n",
    "            <tp><p style=\"font-size:150%;text-align:center\">Implementación de fórmulas en Python</p></tp>\n",
    "            </tr></table>\n",
    "        </td>\n",
    "    </tr>\n",
    "</table>\n",
    "\n",
    "---"
   ]
  },
  {
   "cell_type": "markdown",
   "metadata": {},
   "source": [
    "## Objetivo\n",
    "\n",
    "En este taller nos familiarizaremos con la implementación de fórmulas en Python mediante clases y subclases. También veremos cómo implementar funciones recursivas sobre fórmulas.\n",
    "\n",
    "## Definición de la clase Formula y sus subclases\n",
    "\n",
    "Nuestra implementación está basada en una clase llamada `Formula`, la cual tendrá asociada subclases para los tres tipos de \"capas\" que conforman a las fórmulas, a saber, las letras proposicionales, las negaciones y los conectivos binarios. Estas subclases heredarán los métodos que vamos a implementar sobre la clase `Formula`, de tal manera que podamos aplicar la recursión sobre todas las subclases.\n",
    "\n",
    "La implementación es la siguiente:"
   ]
  },
  {
   "cell_type": "code",
   "execution_count": 1,
   "metadata": {},
   "outputs": [],
   "source": [
    "class Formula :\n",
    "    def __init__(self) :\n",
    "        pass"
   ]
  },
  {
   "cell_type": "markdown",
   "metadata": {},
   "source": [
    "Inicializamos la clase `Formula`, la cual por ahora sólo crea un objeto, sin ningún atributo o método. Lo importante de esta clase es que servirá como contenedor para sus subclases, y es sobre ella que incluiremos los métodos que implementan las funciones recursivas sobre fórmulas.\n",
    "\n",
    "Definiremos ahora una subclase llamada `Letra`, la cual representará las letras proposicionales. Su único atributo es `letra`, que será una cadena con la letra proposicional representada ($p$ o $q$, etc.):"
   ]
  },
  {
   "cell_type": "code",
   "execution_count": 2,
   "metadata": {},
   "outputs": [],
   "source": [
    "class Letra(Formula) :\n",
    "    def __init__ (self, letra:str) :\n",
    "        self.letra = letra"
   ]
  },
  {
   "cell_type": "markdown",
   "metadata": {},
   "source": [
    "Observe cómo nos aseguramos que el atributo `letra` sea de tipo string. Aunque Python usa tipos dinámicos, incluso aunque le demos indicaciones sobre los tipos correspondientes a los argumentos de una función, hacer estas indicaciones constituye una buena práctica en programación. Note que al correr un código en el cual al atributo `letra`de un objeto `Letra` se le asigna un valor de tipo incorrecto, no obtendrá un error. No obstante, usualmente los entornos de programación generarán warnings para indicarnos que hemos usado un tipo que no coincide con el tipo estipulado, cuando tal situación tenga lugar.\n",
    "\n",
    "Ahora viene la subclase `Negacion`, la cual representará la negación de una fórmula. Su único atributo es una fórmula, que llamaremos `right`. Observe que nos aseguramos que este atributo sea de tipo `Formula`:"
   ]
  },
  {
   "cell_type": "code",
   "execution_count": 3,
   "metadata": {},
   "outputs": [],
   "source": [
    "class Negacion(Formula) :    \n",
    "    def __init__(self, right:Formula) : \n",
    "        self.right = right"
   ]
  },
  {
   "cell_type": "markdown",
   "metadata": {},
   "source": [
    "Finalmente, implementamos los conectivos binarios. Para ello necesitamos considerar tres atributos:\n",
    "\n",
    "* `conectivo`: el cual representará un conectivo binario (\"Y\" para la $\\wedge$, \"O\" para la $\\vee$, \">\" para $\\to$, y \"=\" para $\\leftrightarrow$).\n",
    "* `left`: que es la fórmula que irá a la izquierda del conectivo.\n",
    "* `right`: que es la fórmula que irá a la derecha del conectivo."
   ]
  },
  {
   "cell_type": "code",
   "execution_count": 4,
   "metadata": {},
   "outputs": [],
   "source": [
    "class Binario(Formula) :\n",
    "    def __init__(self, conectivo:str, left:Formula, right:Formula) : \n",
    "        self.conectivo = conectivo\n",
    "        self.left = left\n",
    "        self.right = right"
   ]
  },
  {
   "cell_type": "markdown",
   "metadata": {},
   "source": [
    "**Ejercicio 1:**\n",
    "\n",
    "* Cree una fórmula llamada `p` que corresponda al átomo $p$.\n",
    "* Cree una fórmula llamada `q` que corresponda al átomo $q$.\n",
    "* Cree una fórmula llamada `A1` que corresponda a $\\neg p$.\n",
    "* Cree una fórmula llamada `A2` que corresponda a $\\neg p\\to q$.\n",
    "* Cree una fórmula llamada `A3` que corresponda a $\\neg (p\\wedge\\neg q)$."
   ]
  },
  {
   "cell_type": "markdown",
   "metadata": {},
   "source": [
    "**Respuesta:**\n",
    "\n",
    "La implementación es la siguiente:"
   ]
  },
  {
   "cell_type": "code",
   "execution_count": 5,
   "metadata": {},
   "outputs": [],
   "source": [
    "p = Letra('p')\n",
    "q = Letra('q')\n",
    "A1 = Negacion(p)\n",
    "A2 = Binario('>', A1, q)\n",
    "A3 = Negacion(Binario('Y', p, Negacion(q)))"
   ]
  },
  {
   "cell_type": "markdown",
   "metadata": {},
   "source": [
    "## Definición de funciones recursivas\n",
    "\n",
    "Una vez realizada la implementación de manera correcta, no tenemos ningún output. Si tuvimos algún output, esto fue porque pusimos más o menos parámetros en alguna de las subclases. Lo que vamos a hacer ahora es implementar un método que nos permita visualizar una fórmula como estamos acostumbrados. Esta es la notación `inorder` de las fórmulas. Más adelante veremos otras maneras de visualizarlas.\n",
    "\n",
    "Lo que haremos es definir la función inorder y luego la asignaremos como un método de la clase `Formula`. Observe que las clases `Letra`, `Negacion`, `Binario` son subclases de `Formula`, así que todas heredarán este método.\n",
    "\n",
    "La definición de `inorder` es la siguiente:"
   ]
  },
  {
   "cell_type": "code",
   "execution_count": 6,
   "metadata": {},
   "outputs": [],
   "source": [
    "def inorder(self) :\n",
    "    if type(self) == Letra:\n",
    "        return self.letra\n",
    "    elif type(self) == Negacion:\n",
    "        return '-' + self.right.inorder()\n",
    "    elif type(self) == Binario:\n",
    "        return \"(\" + self.left.inorder() + self.conectivo + self.right.inorder() + \")\"\n",
    "    \n",
    "setattr(Formula, \"inorder\", inorder)"
   ]
  },
  {
   "cell_type": "markdown",
   "metadata": {},
   "source": [
    "Esta función considera los tres tipos posibles de capas que conforman a toda fórmula de la lógica proposicional. Para cada caso, retorna un valor. \n",
    "\n",
    "Primero, `inorder` considera si su argumento es de tipo `Letra`. En otras palabras, determina si la fórmula que está considerando es una letra proposicional. En este caso, devuelve el atributo `letra`, el cual guarda como información una cadena que representa una letra proposicional.\n",
    "\n",
    "Segundo, considera si su argumento es de tipo `Negacion`. En este caso, devuelve la cadena \"-\", la cual representa a $\\neg$, concatenada con la función `inorder` aplicada sobre la fórmula que está almacenada en el atributo `right`. Esta es nuestra primera aplicación de la recursión. En efecto, la función `inorder` aplicada sobre una fórmula $\\neg A$ llama de nuevo a la función `inorder` sobre la subfórmula $A$.\n",
    "\n",
    "Finalmente, tercero, considera si su argumento es de tipo `Binario`. En este caso, devuelve la cadena formada por un paréntesis izquierdo, la función `inorder` aplicada sobre la fórmula de la izquierda guardada en el atributo `left`, el conectivo binario guardado en el atributo `conectivo`, la función `inorder` aplicada sobre la fórmula de la derecha guardada en el atributo `right` y, por último, un paréntesis derecho. Esta también es una aplicación de la recursión, toda vez que la función `inorder` aplicada sobre $A\\odot B$ (donde $\\odot$ es cualquiera de los conectivos binarios) llama de nuevo la función `inorder` sobre las subfórmulas $A$ y $B$.\n",
    "\n",
    "Observe que la última línea se encarga de asignar `inorder` como un método del mismo nombre a la clase `Formula`.\n",
    "\n",
    "Al invocar este método sobre nuestras fórmulas, podemos visualizarlas:"
   ]
  },
  {
   "cell_type": "code",
   "execution_count": 7,
   "metadata": {},
   "outputs": [
    {
     "data": {
      "text/plain": [
       "'p'"
      ]
     },
     "execution_count": 7,
     "metadata": {},
     "output_type": "execute_result"
    }
   ],
   "source": [
    "p.inorder()"
   ]
  },
  {
   "cell_type": "markdown",
   "metadata": {},
   "source": [
    "**Ejercicio 2:**\n",
    "\n",
    "Use el método `inorder` para visualizar las otras cuatro fórmulas creadas en el ejercicio 1."
   ]
  },
  {
   "cell_type": "markdown",
   "metadata": {},
   "source": [
    "**Respuesta:**\n",
    "\n",
    "La implementación es la siguiente (observe que para imprimir más de una fórmula, requerimos usar la función `print`):"
   ]
  },
  {
   "cell_type": "code",
   "execution_count": 8,
   "metadata": {},
   "outputs": [
    {
     "name": "stdout",
     "output_type": "stream",
     "text": [
      "q\n",
      "-p\n",
      "(-p>q)\n",
      "-(pY-q)\n"
     ]
    }
   ],
   "source": [
    "print(q.inorder())\n",
    "print(A1.inorder())\n",
    "print(A2.inorder())\n",
    "print(A3.inorder())"
   ]
  },
  {
   "cell_type": "markdown",
   "metadata": {},
   "source": [
    "Definimos ahora la función que cuenta el número de ocurrencias de conectivos (binarios o negación) de una fórmula:"
   ]
  },
  {
   "cell_type": "code",
   "execution_count": 12,
   "metadata": {},
   "outputs": [],
   "source": [
    "def num_conec(self) :\n",
    "    if type(self) == Letra:\n",
    "        return 0\n",
    "    elif type(self) == Negacion:\n",
    "        return 1 + self.right.num_conec()\n",
    "    elif type(self) == Binario:\n",
    "        return 1 + self.left.num_conec() + self.right.num_conec()\n",
    "\n",
    "setattr(Formula, \"num_conec\", num_conec)"
   ]
  },
  {
   "cell_type": "code",
   "execution_count": 13,
   "metadata": {},
   "outputs": [
    {
     "data": {
      "text/plain": [
       "0"
      ]
     },
     "execution_count": 13,
     "metadata": {},
     "output_type": "execute_result"
    }
   ],
   "source": [
    "p.num_conec()"
   ]
  },
  {
   "cell_type": "markdown",
   "metadata": {},
   "source": [
    "**Ejercicio 3:**\n",
    "\n",
    "Use el método `num_conec` para visualizar las otras cuatro fórmulas creadas en el ejercicio 1."
   ]
  },
  {
   "cell_type": "markdown",
   "metadata": {},
   "source": [
    "**Respuesta:**\n",
    "\n",
    "La implementación es la siguiente (observe que para imprimir más de una fórmula, requerimos usar la función `print`):"
   ]
  },
  {
   "cell_type": "code",
   "execution_count": 14,
   "metadata": {},
   "outputs": [
    {
     "name": "stdout",
     "output_type": "stream",
     "text": [
      "0\n",
      "1\n",
      "2\n",
      "3\n"
     ]
    }
   ],
   "source": [
    "print(q.num_conec())\n",
    "print(A1.num_conec())\n",
    "print(A2.num_conec())\n",
    "print(A3.num_conec())"
   ]
  },
  {
   "cell_type": "markdown",
   "metadata": {},
   "source": [
    "**Ejercicio 4:**\n",
    "\n",
    "Cree la función `num_paren` que cuenta el número de paréntesis de una fórmula y córrala sobre las fórmulas del ejercicio 1."
   ]
  },
  {
   "cell_type": "markdown",
   "metadata": {},
   "source": [
    "**Respuesta:**\n",
    "\n",
    "Una posible implementación es la siguiente:"
   ]
  },
  {
   "cell_type": "code",
   "execution_count": 15,
   "metadata": {},
   "outputs": [],
   "source": [
    "def num_paren(self) :\n",
    "    if type(self) == Letra:\n",
    "        return 0\n",
    "    elif type(self) == Negacion:\n",
    "        return self.right.num_paren()\n",
    "    elif type(self) == Binario:\n",
    "        return 2 + self.left.num_paren() + self.right.num_paren()\n",
    "\n",
    "setattr(Formula, \"num_paren\", num_paren)"
   ]
  },
  {
   "cell_type": "code",
   "execution_count": 16,
   "metadata": {},
   "outputs": [
    {
     "name": "stdout",
     "output_type": "stream",
     "text": [
      "0\n",
      "0\n",
      "0\n",
      "2\n",
      "2\n"
     ]
    }
   ],
   "source": [
    "print(p.num_paren())\n",
    "print(q.num_paren())\n",
    "print(A1.num_paren())\n",
    "print(A2.num_paren())\n",
    "print(A3.num_paren())"
   ]
  }
 ],
 "metadata": {
  "kernelspec": {
   "display_name": "Python 3",
   "language": "python",
   "name": "python3"
  },
  "language_info": {
   "codemirror_mode": {
    "name": "ipython",
    "version": 3
   },
   "file_extension": ".py",
   "mimetype": "text/x-python",
   "name": "python",
   "nbconvert_exporter": "python",
   "pygments_lexer": "ipython3",
   "version": "3.9.1"
  }
 },
 "nbformat": 4,
 "nbformat_minor": 4
}
